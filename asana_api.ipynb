{
 "cells": [
  {
   "cell_type": "markdown",
   "metadata": {},
   "source": [
    "# ```Asana``` API Tutorial #\n",
    "\n",
    "### What is ```Asana``` API? ###\n",
    "```Asana``` API makes it possible to extend or enhance what’s possible with Asana's UI, integrating with other tools, adding or extracting data, or automating workflows. \n",
    "\n",
    "### Instalation ###\n",
    "```Asana``` API is accessed via HTTP requests, so no need for installs.\n",
    "\n",
    "### Authentication Token ###\n",
    "The first thing we need to do is to authorize our user in Asana's API. To do so, we must visit the [Developer Console](https://app.asana.com/0/my-apps) and create a Personal Access Token (PAT). Our token is stored in the ```asana_token.txt```.\n",
    "\n",
    "### Workspace GID ###\n",
    "A ```workspace``` is the highest unit in Asana. Since all objects (```tasks```, ```projects```, ```teams```, etc) have an associated ```workspace```, we need to know the Globally Unique Identifier (workspace GID). To do so, log in, then visit (```GET``` endpoint) ```https://app.asana.com/api/1.0/workspaces``` in a browser.\n",
    "\n",
    "### Main Objects ###\n",
    "- ```Portfolio```: gives a high-level overview of the status of multiple ```projects```;\n",
    "- ```Project```: represents a prioritized list of ```tasks``` and exists in a single ```workspace```;\n",
    "- ```Task```: is Asana's basic object and can be configured with ```sections``` and ```memberships```;\n",
    "- ```Users```: represents an account in Asana that can be given access to various ```workspaces```, ```projects```, and ```tasks```;\n",
    "- ```Workspaces```: the highest-level organizational unit in Asana, and all ```projects``` and ```tasks``` are associated with one;\n",
    "\n",
    "### Accessing Response Fields ###\n",
    "If not set in ```opt_fields```, responses will return the bare minimum on whatever objects are being accessed. Additionally, this fields accepts the dot operator (```.```) to drill down an objects parameters (such as ```owner.name```, for example).\n",
    "\n",
    "### Documentation ###\n",
    "- Asana Guide Documentation - [Link](https://developers.asana.com/docs)\n",
    "- Asana API Reference: [Link](https://developers.asana.com/reference)\n",
    "---"
   ]
  },
  {
   "cell_type": "markdown",
   "metadata": {},
   "source": [
    "### Importing Dependencies ###"
   ]
  },
  {
   "cell_type": "code",
   "execution_count": 45,
   "metadata": {},
   "outputs": [],
   "source": [
    "import yaml\n",
    "import json\n",
    "import requests\n",
    "from datetime import datetime"
   ]
  },
  {
   "cell_type": "markdown",
   "metadata": {},
   "source": [
    "### User-Defined Classes ###"
   ]
  },
  {
   "cell_type": "code",
   "execution_count": 46,
   "metadata": {},
   "outputs": [],
   "source": [
    "class HttpRequests(object):\n",
    "    def __init__(self):\n",
    "        return None\n",
    "    \n",
    "    def status_check(self, request_obj, has_payload=True, is_json=True):\n",
    "        # Pulling status code\n",
    "        status = request_obj.status_code\n",
    "        # Confirming the use case\n",
    "        if 100 <= status < 200: # Informational: server acknowledges and is processing the request\n",
    "            print(\"Informational Error\")\n",
    "            raise(Exception(request_obj.text))\n",
    "        elif 200 <= status < 300: # Success: server successfully received, understood, and processed the request\n",
    "            print(\"Success\")\n",
    "            # Returning the payload\n",
    "            if has_payload:\n",
    "                if is_json:\n",
    "                    return request_obj.json() # [json]\n",
    "                else:\n",
    "                    return request_obj.text # [str]\n",
    "            else:\n",
    "                return None\n",
    "        elif 300 <= status < 400: # Redirection: server received the request, but redirect it to somewhere else\n",
    "            print(\"Redirection Error\")\n",
    "            raise(Exception(request_obj.text))\n",
    "        elif 400 <= status < 500: # Client Error: server couldn’t reach the endpoint\n",
    "            print(\"Client Error\")\n",
    "            raise(Exception(request_obj.text))\n",
    "        elif status >= 500: # Server Error: client made a valid request, but server failed to complete\n",
    "            print(\"Client Error\")\n",
    "            raise(Exception(request_obj.text))\n",
    "        else:\n",
    "            print(\"Unknown Error\")\n",
    "            raise(Exception(request_obj.text))\n",
    "        return None"
   ]
  },
  {
   "cell_type": "code",
   "execution_count": 140,
   "metadata": {},
   "outputs": [],
   "source": [
    "class AsanaAPI(HttpRequests):\n",
    "    def __init__(self, yaml_dict):\n",
    "        # Initializing the parent class\n",
    "        HttpRequests.__init__(self)\n",
    "        # Attributes\n",
    "        self.workspace_id = yaml_dict.get(\"asana\",{}).get(\"workspace_gid\")\n",
    "        self.base_url = yaml_dict.get(\"asana\",{}).get(\"base_url\")\n",
    "        self.headers = self.build_headers(yaml_dict)\n",
    "\n",
    "    # Headers Methods\n",
    "    def build_headers(self, yaml_dict):\n",
    "        headers = {\"Authorization\": \"Bearer \" + yaml_dict.get(\"asana\",{}).get(\"personal_token\"),\n",
    "                   \"Content-Type\": \"application/json\",\n",
    "                   \"Accept\": \"application/json\"}\n",
    "        return headers\n",
    "\n",
    "    # Project Methods\n",
    "    def get_projects(self, fields=\"archived,completed,completed_at,created_at,due_date,name,owner.name,permalink_url,start_on\"):\n",
    "        # Creating the URL\n",
    "        url = self.base_url + \"/workspaces/{}/projects\".format(self.workspace_id)\n",
    "        params = {\"opt_fields\": fields,\n",
    "                  \"archived\": False}\n",
    "        # Requesting\n",
    "        request = requests.get(url, headers=self.headers, params=params)\n",
    "        payload = self.status_check(request)\n",
    "        return [{\"project_name\": each.get(\"name\"),\n",
    "                 \"project_id\": each.get(\"gid\"),\n",
    "                 \"is_archieved\": each.get(\"archived\"),\n",
    "                 \"is_complete\": each.get(\"completed\"),\n",
    "                 \"created_at\": each.get(\"created_at\"),\n",
    "                 \"started_at\": each.get(\"start_on\"),\n",
    "                 \"due_at\": each.get(\"due_date\"),\n",
    "                 \"completed_at\": each.get(\"completed_at\"),\n",
    "                 \"url\": each.get(\"permalink_url\"),\n",
    "                 \"owner\": each.get(\"owner\",{}).get(\"name\")} for each in payload.get(\"data\")]\n",
    "\n",
    "    def summary_tasks(self, project_id, fields=\"num_tasks,num_incomplete_tasks,num_completed_tasks\"): \n",
    "        # Creating the URL\n",
    "        url = self.base_url + \"/projects/{}/task_counts\".format(project_id)\n",
    "        params = {\"opt_fields\": fields}\n",
    "        # Requesting\n",
    "        request = requests.get(url, headers=self.headers, params=params)\n",
    "        payload = self.status_check(request)[\"data\"]\n",
    "        return {\"tasks\": payload.get(\"num_tasks\"),\n",
    "                \"completed_tasks\": payload.get(\"num_completed_tasks\"),\n",
    "                \"incomplete_tasks\": payload.get(\"num_incomplete_tasks\")} # Opportunity: project completion percentage\n",
    "\n",
    "    def get_project_status(self, project_id, fields=\"created_at,modified_at,status_type\"):\n",
    "        # Creating the URL\n",
    "        url = self.base_url + \"/status_updates\"\n",
    "        params = {\"opt_fields\": fields,\n",
    "                  \"parent\": project_id}\n",
    "        # Requesting\n",
    "        request = requests.get(url, headers=self.headers, params=params)\n",
    "        payload = self.status_check(request)[\"data\"][0]\n",
    "        return {\"project_id\": payload.get(\"gid\"),\n",
    "                \"created_at\": payload.get(\"created_at\"),\n",
    "                \"modified_at\": payload.get(\"modified_at\"),\n",
    "                \"status\": payload.get(\"status_type\")}\n",
    "\n",
    "    # Task Methods\n",
    "    def get_tasks(self, project_id, fields=\"assignee.name,completed,completed_at,due_at,name,modified_at,permalink_url\"): \n",
    "        # Creating the URL\n",
    "        url = self.base_url + \"/projects/{}/tasks\".format(project_id)\n",
    "        params = {\"opt_fields\": fields,\n",
    "                  \"completed_since\": None} # 'completed_since': return incomplete or tasks that have been completed since\n",
    "        # Requesting\n",
    "        request = requests.get(url, headers=self.headers, params=params)\n",
    "        payload = self.status_check(request)\n",
    "        return [{\"task_name\": each.get(\"name\"),\n",
    "                 \"task_id\": each.get(\"gid\"),\n",
    "                 \"assignee\": each.get(\"assignee\",{}).get(\"name\"),\n",
    "                 \"is_complete\": each.get(\"completed\"),\n",
    "                 \"completed_at\": each.get(\"completed_at\"),\n",
    "                 \"due_at\": each.get(\"due_at\"),\n",
    "                 \"modified_at\": each.get(\"modified_at\"),\n",
    "                 \"url\": each.get(\"permalink_url\")} for each in payload.get(\"data\")]\n",
    "\n",
    "    def get_subtasks(self, task_id, fields=\"assignee.name,completed,completed_at,due_at,name,modified_at,permalink_url\"): \n",
    "        # Creating the URL\n",
    "        url = self.base_url + \"/tasks/{}/subtasks\".format(task_id)\n",
    "        params = {\"opt_fields\": fields} \n",
    "        # Requesting\n",
    "        request = requests.get(url, headers=self.headers, params=params)\n",
    "        payload = self.status_check(request)\n",
    "        return [{\"subtask_name\": each.get(\"name\"),\n",
    "                 \"subtask_id\": each.get(\"gid\"),\n",
    "                 \"assignee\": each.get(\"assignee\",{}).get(\"name\"),\n",
    "                 \"is_complete\": each.get(\"completed\"),\n",
    "                 \"completed_at\": each.get(\"completed_at\"),\n",
    "                 \"due_at\": each.get(\"due_at\"),\n",
    "                 \"modified_at\": each.get(\"modified_at\"),\n",
    "                 \"url\": each.get(\"permalink_url\")} for each in payload.get(\"data\")]\n",
    "\n",
    "    # User Methods\n",
    "    def get_users(self, fields=\"name,email,uri\"):\n",
    "        # Creating the URL\n",
    "        url = self.base_url + \"/users\"\n",
    "        params = {\"opt_fields\": fields,\n",
    "                  \"workspace\": self.workspace_id,\n",
    "                  \"limit\": 3}  # 'limit' will need 'offset' param when in production\n",
    "        # Requesting\n",
    "        request = requests.get(url, headers=self.headers, params=params)\n",
    "        payload = self.status_check(request)\n",
    "        return [{\"user_name\": each.get(\"name\"),\n",
    "                 \"user_id\": each.get(\"gid\"),\n",
    "                 \"email\": each.get(\"email\")} for each in payload.get(\"data\")]"
   ]
  },
  {
   "cell_type": "markdown",
   "metadata": {},
   "source": [
    "### Main ###"
   ]
  },
  {
   "cell_type": "code",
   "execution_count": 141,
   "metadata": {},
   "outputs": [],
   "source": [
    "# Reading the YAML config\n",
    "with open(\"./asana.yaml\", \"r\") as _stream:\n",
    "    yaml_config = yaml.safe_load(_stream)"
   ]
  },
  {
   "cell_type": "code",
   "execution_count": 142,
   "metadata": {},
   "outputs": [],
   "source": [
    "# Instantiating the 'AsanaAPI' class\n",
    "asana = AsanaAPI(yaml_config)"
   ]
  },
  {
   "cell_type": "markdown",
   "metadata": {},
   "source": [
    "**Workspace**"
   ]
  },
  {
   "cell_type": "code",
   "execution_count": 91,
   "metadata": {},
   "outputs": [
    {
     "name": "stdout",
     "output_type": "stream",
     "text": [
      "Success\n"
     ]
    },
    {
     "data": {
      "text/plain": [
       "[{'project_name': 'Project 1',\n",
       "  'project_id': '1206082638344023',\n",
       "  'is_archieved': False,\n",
       "  'is_complete': False,\n",
       "  'created_at': '2023-12-01T22:25:50.369Z',\n",
       "  'started_at': None,\n",
       "  'due_at': '2023-12-24',\n",
       "  'completed_at': None,\n",
       "  'url': 'https://app.asana.com/0/1206082638344023/1206082638344023',\n",
       "  'owner': 'Bruno Vasconcelos Montoni'}]"
      ]
     },
     "execution_count": 91,
     "metadata": {},
     "output_type": "execute_result"
    }
   ],
   "source": [
    "# Get all projects in a workspace\n",
    "asana.get_projects()"
   ]
  },
  {
   "cell_type": "markdown",
   "metadata": {},
   "source": [
    "**Project**"
   ]
  },
  {
   "cell_type": "code",
   "execution_count": 92,
   "metadata": {},
   "outputs": [
    {
     "name": "stdout",
     "output_type": "stream",
     "text": [
      "Success\n"
     ]
    },
    {
     "data": {
      "text/plain": [
       "{'tasks': 2, 'completed_tasks': 0, 'incomplete_tasks': 2}"
      ]
     },
     "execution_count": 92,
     "metadata": {},
     "output_type": "execute_result"
    }
   ],
   "source": [
    "# Getting a project's tasks summary (using project_id = \"1206082638344023\")\n",
    "asana.summary_tasks(\"1206082638344023\")"
   ]
  },
  {
   "cell_type": "code",
   "execution_count": 143,
   "metadata": {},
   "outputs": [
    {
     "name": "stdout",
     "output_type": "stream",
     "text": [
      "Success\n"
     ]
    },
    {
     "data": {
      "text/plain": [
       "{'project_id': '1206082638344044',\n",
       " 'created_at': '2023-12-01T23:10:16.886Z',\n",
       " 'modified_at': '2023-12-01T23:10:17.035Z',\n",
       " 'status': 'on_track'}"
      ]
     },
     "execution_count": 143,
     "metadata": {},
     "output_type": "execute_result"
    }
   ],
   "source": [
    "# Getting a project's status  (using project_id = \"1206082638344023\")\n",
    "asana.get_project_status(\"1206082638344023\")"
   ]
  },
  {
   "cell_type": "markdown",
   "metadata": {},
   "source": [
    "**Task**"
   ]
  },
  {
   "cell_type": "code",
   "execution_count": 112,
   "metadata": {},
   "outputs": [
    {
     "name": "stdout",
     "output_type": "stream",
     "text": [
      "Success\n"
     ]
    },
    {
     "data": {
      "text/plain": [
       "[{'task_name': 'Task 1',\n",
       "  'task_id': '1206082638344026',\n",
       "  'assignee': 'Bruno Vasconcelos Montoni',\n",
       "  'is_complete': False,\n",
       "  'completed_at': None,\n",
       "  'due_at': None,\n",
       "  'modified_at': '2023-12-01T23:09:43.289Z',\n",
       "  'url': 'https://app.asana.com/0/1206082638344023/1206082638344026'},\n",
       " {'task_name': 'Task 2',\n",
       "  'task_id': '1206082638344028',\n",
       "  'assignee': 'Bruno Vasconcelos Montoni',\n",
       "  'is_complete': False,\n",
       "  'completed_at': None,\n",
       "  'due_at': None,\n",
       "  'modified_at': '2023-12-01T23:09:48.018Z',\n",
       "  'url': 'https://app.asana.com/0/1206082638344023/1206082638344028'}]"
      ]
     },
     "execution_count": 112,
     "metadata": {},
     "output_type": "execute_result"
    }
   ],
   "source": [
    "# Listing a project's tasks\n",
    "asana.get_tasks(\"1206082638344023\")"
   ]
  },
  {
   "cell_type": "code",
   "execution_count": 114,
   "metadata": {},
   "outputs": [
    {
     "name": "stdout",
     "output_type": "stream",
     "text": [
      "Success\n"
     ]
    },
    {
     "data": {
      "text/plain": [
       "[{'subtask_name': 'Subtask 1.1',\n",
       "  'subtask_id': '1206082638344032',\n",
       "  'assignee': 'Bruno Vasconcelos Montoni',\n",
       "  'is_complete': False,\n",
       "  'completed_at': None,\n",
       "  'due_at': None,\n",
       "  'modified_at': '2023-12-02T21:54:39.331Z',\n",
       "  'url': 'https://app.asana.com/0/1206082638344032/1206082638344032'},\n",
       " {'subtask_name': 'Subtask 1.2',\n",
       "  'subtask_id': '1206082638344033',\n",
       "  'assignee': 'Bruno Vasconcelos Montoni',\n",
       "  'is_complete': False,\n",
       "  'completed_at': None,\n",
       "  'due_at': None,\n",
       "  'modified_at': '2023-12-02T21:54:42.141Z',\n",
       "  'url': 'https://app.asana.com/0/1206082638344033/1206082638344033'}]"
      ]
     },
     "execution_count": 114,
     "metadata": {},
     "output_type": "execute_result"
    }
   ],
   "source": [
    "# Listing a task's subtasks (using task_id = \"1206082638344026\")\n",
    "asana.get_subtasks(\"1206082638344026\")"
   ]
  },
  {
   "cell_type": "markdown",
   "metadata": {},
   "source": [
    "**User**"
   ]
  },
  {
   "cell_type": "code",
   "execution_count": 135,
   "metadata": {},
   "outputs": [
    {
     "name": "stdout",
     "output_type": "stream",
     "text": [
      "Success\n"
     ]
    },
    {
     "data": {
      "text/plain": [
       "[{'user_name': 'Crystal Lua',\n",
       "  'user_id': '858461790906974',\n",
       "  'email': 'cl3427@columbia.edu'},\n",
       " {'user_name': 'Alison Ewing',\n",
       "  'user_id': '862353314856450',\n",
       "  'email': 'aee2112@columbia.edu'},\n",
       " {'user_name': 'eps2147@columbia.edu',\n",
       "  'user_id': '865589706372969',\n",
       "  'email': 'eps2147@columbia.edu'}]"
      ]
     },
     "execution_count": 135,
     "metadata": {},
     "output_type": "execute_result"
    }
   ],
   "source": [
    "# Listing all users in workspace\n",
    "asana.get_users()"
   ]
  },
  {
   "cell_type": "markdown",
   "metadata": {},
   "source": [
    "---"
   ]
  }
 ],
 "metadata": {
  "kernelspec": {
   "display_name": "Python 3",
   "language": "python",
   "name": "python3"
  },
  "language_info": {
   "codemirror_mode": {
    "name": "ipython",
    "version": 3
   },
   "file_extension": ".py",
   "mimetype": "text/x-python",
   "name": "python",
   "nbconvert_exporter": "python",
   "pygments_lexer": "ipython3",
   "version": "3.8.9"
  }
 },
 "nbformat": 4,
 "nbformat_minor": 2
}
